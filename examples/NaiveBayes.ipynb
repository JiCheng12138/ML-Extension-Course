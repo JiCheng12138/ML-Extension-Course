{
 "cells": [
  {
   "cell_type": "markdown",
   "metadata": {},
   "source": [
    "### Getting started with Naive Bayes"
   ]
  },
  {
   "cell_type": "code",
   "execution_count": 1,
   "metadata": {},
   "outputs": [
    {
     "name": "stderr",
     "output_type": "stream",
     "text": [
      "Warning message in install.packages(\"e1071\"):\n",
      "\"installation of package 'e1071' had non-zero exit status\"Updating HTML index of packages in '.Library'\n",
      "Making 'packages.html' ... done\n"
     ]
    }
   ],
   "source": [
    "#Install the package\n",
    "install.packages(\"e1071\")\n",
    "\n",
    "#Loading the library\n",
    "library(e1071)\n",
    "#?naiveBayes #The documentation also contains an example implementation of Titanic dataset"
   ]
  },
  {
   "cell_type": "markdown",
   "metadata": {},
   "source": [
    "### The Titanic dataset in R is a table for about **2200** passengers summarised according to four factors – economic status ranging from 1st class, 2nd class, 3rd class and crew; gender which is either male or female; Age category which is either Child or Adult and whether the type of passenger survived. For each combination of Age, Gender, Class and Survived status, the table gives the number of passengers who fall into the combination. We will use the Naive Bayes Technique to classify such passengers and check how well it performs.\n",
    "\n",
    "### As we know, Bayes theorem is based on conditional probability and uses the formula:\n",
    "\n",
    "##### $P(A | B) = P(A) * P(B | A) / P(B)$"
   ]
  },
  {
   "cell_type": "code",
   "execution_count": 2,
   "metadata": {},
   "outputs": [
    {
     "data": {
      "text/html": [
       "<table>\n",
       "<thead><tr><th scope=col>Class</th><th scope=col>Sex</th><th scope=col>Age</th><th scope=col>Survived</th><th scope=col>Freq</th></tr></thead>\n",
       "<tbody>\n",
       "\t<tr><td>1st   </td><td>Male  </td><td>Child </td><td>No    </td><td>  0   </td></tr>\n",
       "\t<tr><td>2nd   </td><td>Male  </td><td>Child </td><td>No    </td><td>  0   </td></tr>\n",
       "\t<tr><td>3rd   </td><td>Male  </td><td>Child </td><td>No    </td><td> 35   </td></tr>\n",
       "\t<tr><td>Crew  </td><td>Male  </td><td>Child </td><td>No    </td><td>  0   </td></tr>\n",
       "\t<tr><td>1st   </td><td>Female</td><td>Child </td><td>No    </td><td>  0   </td></tr>\n",
       "\t<tr><td>2nd   </td><td>Female</td><td>Child </td><td>No    </td><td>  0   </td></tr>\n",
       "\t<tr><td>3rd   </td><td>Female</td><td>Child </td><td>No    </td><td> 17   </td></tr>\n",
       "\t<tr><td>Crew  </td><td>Female</td><td>Child </td><td>No    </td><td>  0   </td></tr>\n",
       "\t<tr><td>1st   </td><td>Male  </td><td>Adult </td><td>No    </td><td>118   </td></tr>\n",
       "\t<tr><td>2nd   </td><td>Male  </td><td>Adult </td><td>No    </td><td>154   </td></tr>\n",
       "\t<tr><td>3rd   </td><td>Male  </td><td>Adult </td><td>No    </td><td>387   </td></tr>\n",
       "\t<tr><td>Crew  </td><td>Male  </td><td>Adult </td><td>No    </td><td>670   </td></tr>\n",
       "\t<tr><td>1st   </td><td>Female</td><td>Adult </td><td>No    </td><td>  4   </td></tr>\n",
       "\t<tr><td>2nd   </td><td>Female</td><td>Adult </td><td>No    </td><td> 13   </td></tr>\n",
       "\t<tr><td>3rd   </td><td>Female</td><td>Adult </td><td>No    </td><td> 89   </td></tr>\n",
       "\t<tr><td>Crew  </td><td>Female</td><td>Adult </td><td>No    </td><td>  3   </td></tr>\n",
       "\t<tr><td>1st   </td><td>Male  </td><td>Child </td><td>Yes   </td><td>  5   </td></tr>\n",
       "\t<tr><td>2nd   </td><td>Male  </td><td>Child </td><td>Yes   </td><td> 11   </td></tr>\n",
       "\t<tr><td>3rd   </td><td>Male  </td><td>Child </td><td>Yes   </td><td> 13   </td></tr>\n",
       "\t<tr><td>Crew  </td><td>Male  </td><td>Child </td><td>Yes   </td><td>  0   </td></tr>\n",
       "\t<tr><td>1st   </td><td>Female</td><td>Child </td><td>Yes   </td><td>  1   </td></tr>\n",
       "\t<tr><td>2nd   </td><td>Female</td><td>Child </td><td>Yes   </td><td> 13   </td></tr>\n",
       "\t<tr><td>3rd   </td><td>Female</td><td>Child </td><td>Yes   </td><td> 14   </td></tr>\n",
       "\t<tr><td>Crew  </td><td>Female</td><td>Child </td><td>Yes   </td><td>  0   </td></tr>\n",
       "\t<tr><td>1st   </td><td>Male  </td><td>Adult </td><td>Yes   </td><td> 57   </td></tr>\n",
       "\t<tr><td>2nd   </td><td>Male  </td><td>Adult </td><td>Yes   </td><td> 14   </td></tr>\n",
       "\t<tr><td>3rd   </td><td>Male  </td><td>Adult </td><td>Yes   </td><td> 75   </td></tr>\n",
       "\t<tr><td>Crew  </td><td>Male  </td><td>Adult </td><td>Yes   </td><td>192   </td></tr>\n",
       "\t<tr><td>1st   </td><td>Female</td><td>Adult </td><td>Yes   </td><td>140   </td></tr>\n",
       "\t<tr><td>2nd   </td><td>Female</td><td>Adult </td><td>Yes   </td><td> 80   </td></tr>\n",
       "\t<tr><td>3rd   </td><td>Female</td><td>Adult </td><td>Yes   </td><td> 76   </td></tr>\n",
       "\t<tr><td>Crew  </td><td>Female</td><td>Adult </td><td>Yes   </td><td> 20   </td></tr>\n",
       "</tbody>\n",
       "</table>\n"
      ],
      "text/latex": [
       "\\begin{tabular}{r|lllll}\n",
       " Class & Sex & Age & Survived & Freq\\\\\n",
       "\\hline\n",
       "\t 1st    & Male   & Child  & No     &   0   \\\\\n",
       "\t 2nd    & Male   & Child  & No     &   0   \\\\\n",
       "\t 3rd    & Male   & Child  & No     &  35   \\\\\n",
       "\t Crew   & Male   & Child  & No     &   0   \\\\\n",
       "\t 1st    & Female & Child  & No     &   0   \\\\\n",
       "\t 2nd    & Female & Child  & No     &   0   \\\\\n",
       "\t 3rd    & Female & Child  & No     &  17   \\\\\n",
       "\t Crew   & Female & Child  & No     &   0   \\\\\n",
       "\t 1st    & Male   & Adult  & No     & 118   \\\\\n",
       "\t 2nd    & Male   & Adult  & No     & 154   \\\\\n",
       "\t 3rd    & Male   & Adult  & No     & 387   \\\\\n",
       "\t Crew   & Male   & Adult  & No     & 670   \\\\\n",
       "\t 1st    & Female & Adult  & No     &   4   \\\\\n",
       "\t 2nd    & Female & Adult  & No     &  13   \\\\\n",
       "\t 3rd    & Female & Adult  & No     &  89   \\\\\n",
       "\t Crew   & Female & Adult  & No     &   3   \\\\\n",
       "\t 1st    & Male   & Child  & Yes    &   5   \\\\\n",
       "\t 2nd    & Male   & Child  & Yes    &  11   \\\\\n",
       "\t 3rd    & Male   & Child  & Yes    &  13   \\\\\n",
       "\t Crew   & Male   & Child  & Yes    &   0   \\\\\n",
       "\t 1st    & Female & Child  & Yes    &   1   \\\\\n",
       "\t 2nd    & Female & Child  & Yes    &  13   \\\\\n",
       "\t 3rd    & Female & Child  & Yes    &  14   \\\\\n",
       "\t Crew   & Female & Child  & Yes    &   0   \\\\\n",
       "\t 1st    & Male   & Adult  & Yes    &  57   \\\\\n",
       "\t 2nd    & Male   & Adult  & Yes    &  14   \\\\\n",
       "\t 3rd    & Male   & Adult  & Yes    &  75   \\\\\n",
       "\t Crew   & Male   & Adult  & Yes    & 192   \\\\\n",
       "\t 1st    & Female & Adult  & Yes    & 140   \\\\\n",
       "\t 2nd    & Female & Adult  & Yes    &  80   \\\\\n",
       "\t 3rd    & Female & Adult  & Yes    &  76   \\\\\n",
       "\t Crew   & Female & Adult  & Yes    &  20   \\\\\n",
       "\\end{tabular}\n"
      ],
      "text/markdown": [
       "\n",
       "| Class | Sex | Age | Survived | Freq |\n",
       "|---|---|---|---|---|\n",
       "| 1st    | Male   | Child  | No     |   0    |\n",
       "| 2nd    | Male   | Child  | No     |   0    |\n",
       "| 3rd    | Male   | Child  | No     |  35    |\n",
       "| Crew   | Male   | Child  | No     |   0    |\n",
       "| 1st    | Female | Child  | No     |   0    |\n",
       "| 2nd    | Female | Child  | No     |   0    |\n",
       "| 3rd    | Female | Child  | No     |  17    |\n",
       "| Crew   | Female | Child  | No     |   0    |\n",
       "| 1st    | Male   | Adult  | No     | 118    |\n",
       "| 2nd    | Male   | Adult  | No     | 154    |\n",
       "| 3rd    | Male   | Adult  | No     | 387    |\n",
       "| Crew   | Male   | Adult  | No     | 670    |\n",
       "| 1st    | Female | Adult  | No     |   4    |\n",
       "| 2nd    | Female | Adult  | No     |  13    |\n",
       "| 3rd    | Female | Adult  | No     |  89    |\n",
       "| Crew   | Female | Adult  | No     |   3    |\n",
       "| 1st    | Male   | Child  | Yes    |   5    |\n",
       "| 2nd    | Male   | Child  | Yes    |  11    |\n",
       "| 3rd    | Male   | Child  | Yes    |  13    |\n",
       "| Crew   | Male   | Child  | Yes    |   0    |\n",
       "| 1st    | Female | Child  | Yes    |   1    |\n",
       "| 2nd    | Female | Child  | Yes    |  13    |\n",
       "| 3rd    | Female | Child  | Yes    |  14    |\n",
       "| Crew   | Female | Child  | Yes    |   0    |\n",
       "| 1st    | Male   | Adult  | Yes    |  57    |\n",
       "| 2nd    | Male   | Adult  | Yes    |  14    |\n",
       "| 3rd    | Male   | Adult  | Yes    |  75    |\n",
       "| Crew   | Male   | Adult  | Yes    | 192    |\n",
       "| 1st    | Female | Adult  | Yes    | 140    |\n",
       "| 2nd    | Female | Adult  | Yes    |  80    |\n",
       "| 3rd    | Female | Adult  | Yes    |  76    |\n",
       "| Crew   | Female | Adult  | Yes    |  20    |\n",
       "\n"
      ],
      "text/plain": [
       "   Class Sex    Age   Survived Freq\n",
       "1  1st   Male   Child No         0 \n",
       "2  2nd   Male   Child No         0 \n",
       "3  3rd   Male   Child No        35 \n",
       "4  Crew  Male   Child No         0 \n",
       "5  1st   Female Child No         0 \n",
       "6  2nd   Female Child No         0 \n",
       "7  3rd   Female Child No        17 \n",
       "8  Crew  Female Child No         0 \n",
       "9  1st   Male   Adult No       118 \n",
       "10 2nd   Male   Adult No       154 \n",
       "11 3rd   Male   Adult No       387 \n",
       "12 Crew  Male   Adult No       670 \n",
       "13 1st   Female Adult No         4 \n",
       "14 2nd   Female Adult No        13 \n",
       "15 3rd   Female Adult No        89 \n",
       "16 Crew  Female Adult No         3 \n",
       "17 1st   Male   Child Yes        5 \n",
       "18 2nd   Male   Child Yes       11 \n",
       "19 3rd   Male   Child Yes       13 \n",
       "20 Crew  Male   Child Yes        0 \n",
       "21 1st   Female Child Yes        1 \n",
       "22 2nd   Female Child Yes       13 \n",
       "23 3rd   Female Child Yes       14 \n",
       "24 Crew  Female Child Yes        0 \n",
       "25 1st   Male   Adult Yes       57 \n",
       "26 2nd   Male   Adult Yes       14 \n",
       "27 3rd   Male   Adult Yes       75 \n",
       "28 Crew  Male   Adult Yes      192 \n",
       "29 1st   Female Adult Yes      140 \n",
       "30 2nd   Female Adult Yes       80 \n",
       "31 3rd   Female Adult Yes       76 \n",
       "32 Crew  Female Adult Yes       20 "
      ]
     },
     "metadata": {},
     "output_type": "display_data"
    }
   ],
   "source": [
    "#Next load the Titanic dataset\n",
    "data(\"Titanic\")\n",
    "\n",
    "#Save into a data frame and view it\n",
    "Titanic_df=as.data.frame(Titanic)\n",
    "Titanic_df"
   ]
  },
  {
   "cell_type": "markdown",
   "metadata": {},
   "source": [
    "### We see that there are 32 observations which represent all possible combinations of Class, Sex, Age and Survived with their frequency. Since it is summarised, this table is not suitable for modelling purposes. We need to expand the table into individual rows. Let’s create a repeating sequence of rows based on the frequencies in the table"
   ]
  },
  {
   "cell_type": "code",
   "execution_count": 17,
   "metadata": {},
   "outputs": [
    {
     "data": {
      "text/html": [
       "<table>\n",
       "<thead><tr><th></th><th scope=col>Class</th><th scope=col>Sex</th><th scope=col>Age</th><th scope=col>Survived</th><th scope=col>Freq</th></tr></thead>\n",
       "<tbody>\n",
       "\t<tr><th scope=row>3</th><td>3rd  </td><td>Male </td><td>Child</td><td>No   </td><td>35   </td></tr>\n",
       "\t<tr><th scope=row>3.1</th><td>3rd  </td><td>Male </td><td>Child</td><td>No   </td><td>35   </td></tr>\n",
       "\t<tr><th scope=row>3.2</th><td>3rd  </td><td>Male </td><td>Child</td><td>No   </td><td>35   </td></tr>\n",
       "\t<tr><th scope=row>3.3</th><td>3rd  </td><td>Male </td><td>Child</td><td>No   </td><td>35   </td></tr>\n",
       "\t<tr><th scope=row>3.4</th><td>3rd  </td><td>Male </td><td>Child</td><td>No   </td><td>35   </td></tr>\n",
       "\t<tr><th scope=row>3.5</th><td>3rd  </td><td>Male </td><td>Child</td><td>No   </td><td>35   </td></tr>\n",
       "</tbody>\n",
       "</table>\n"
      ],
      "text/latex": [
       "\\begin{tabular}{r|lllll}\n",
       "  & Class & Sex & Age & Survived & Freq\\\\\n",
       "\\hline\n",
       "\t3 & 3rd   & Male  & Child & No    & 35   \\\\\n",
       "\t3.1 & 3rd   & Male  & Child & No    & 35   \\\\\n",
       "\t3.2 & 3rd   & Male  & Child & No    & 35   \\\\\n",
       "\t3.3 & 3rd   & Male  & Child & No    & 35   \\\\\n",
       "\t3.4 & 3rd   & Male  & Child & No    & 35   \\\\\n",
       "\t3.5 & 3rd   & Male  & Child & No    & 35   \\\\\n",
       "\\end{tabular}\n"
      ],
      "text/markdown": [
       "\n",
       "| <!--/--> | Class | Sex | Age | Survived | Freq |\n",
       "|---|---|---|---|---|---|\n",
       "| 3 | 3rd   | Male  | Child | No    | 35    |\n",
       "| 3.1 | 3rd   | Male  | Child | No    | 35    |\n",
       "| 3.2 | 3rd   | Male  | Child | No    | 35    |\n",
       "| 3.3 | 3rd   | Male  | Child | No    | 35    |\n",
       "| 3.4 | 3rd   | Male  | Child | No    | 35    |\n",
       "| 3.5 | 3rd   | Male  | Child | No    | 35    |\n",
       "\n"
      ],
      "text/plain": [
       "    Class Sex  Age   Survived Freq\n",
       "3   3rd   Male Child No       35  \n",
       "3.1 3rd   Male Child No       35  \n",
       "3.2 3rd   Male Child No       35  \n",
       "3.3 3rd   Male Child No       35  \n",
       "3.4 3rd   Male Child No       35  \n",
       "3.5 3rd   Male Child No       35  "
      ]
     },
     "metadata": {},
     "output_type": "display_data"
    }
   ],
   "source": [
    "#Creating data from table\n",
    "repeating_sequence=rep.int(seq_len(nrow(Titanic_df)), Titanic_df$Freq) #This will repeat each combination equal to the frequency of each combination\n",
    "\n",
    "#Create the dataset by row repetition created\n",
    "Titanic_dataset=Titanic_df[repeating_sequence,]\n",
    "head(Titanic_df[repeating_sequence,])"
   ]
  },
  {
   "cell_type": "code",
   "execution_count": 18,
   "metadata": {},
   "outputs": [
    {
     "data": {
      "text/html": [
       "<table>\n",
       "<thead><tr><th></th><th scope=col>Class</th><th scope=col>Sex</th><th scope=col>Age</th><th scope=col>Survived</th></tr></thead>\n",
       "<tbody>\n",
       "\t<tr><th scope=row>3</th><td>3rd  </td><td>Male </td><td>Child</td><td>No   </td></tr>\n",
       "\t<tr><th scope=row>3.1</th><td>3rd  </td><td>Male </td><td>Child</td><td>No   </td></tr>\n",
       "\t<tr><th scope=row>3.2</th><td>3rd  </td><td>Male </td><td>Child</td><td>No   </td></tr>\n",
       "\t<tr><th scope=row>3.3</th><td>3rd  </td><td>Male </td><td>Child</td><td>No   </td></tr>\n",
       "\t<tr><th scope=row>3.4</th><td>3rd  </td><td>Male </td><td>Child</td><td>No   </td></tr>\n",
       "\t<tr><th scope=row>3.5</th><td>3rd  </td><td>Male </td><td>Child</td><td>No   </td></tr>\n",
       "\t<tr><th scope=row>3.6</th><td>3rd  </td><td>Male </td><td>Child</td><td>No   </td></tr>\n",
       "\t<tr><th scope=row>3.7</th><td>3rd  </td><td>Male </td><td>Child</td><td>No   </td></tr>\n",
       "\t<tr><th scope=row>3.8</th><td>3rd  </td><td>Male </td><td>Child</td><td>No   </td></tr>\n",
       "\t<tr><th scope=row>3.9</th><td>3rd  </td><td>Male </td><td>Child</td><td>No   </td></tr>\n",
       "\t<tr><th scope=row>3.10</th><td>3rd  </td><td>Male </td><td>Child</td><td>No   </td></tr>\n",
       "\t<tr><th scope=row>3.11</th><td>3rd  </td><td>Male </td><td>Child</td><td>No   </td></tr>\n",
       "\t<tr><th scope=row>3.12</th><td>3rd  </td><td>Male </td><td>Child</td><td>No   </td></tr>\n",
       "\t<tr><th scope=row>3.13</th><td>3rd  </td><td>Male </td><td>Child</td><td>No   </td></tr>\n",
       "\t<tr><th scope=row>3.14</th><td>3rd  </td><td>Male </td><td>Child</td><td>No   </td></tr>\n",
       "\t<tr><th scope=row>3.15</th><td>3rd  </td><td>Male </td><td>Child</td><td>No   </td></tr>\n",
       "\t<tr><th scope=row>3.16</th><td>3rd  </td><td>Male </td><td>Child</td><td>No   </td></tr>\n",
       "\t<tr><th scope=row>3.17</th><td>3rd  </td><td>Male </td><td>Child</td><td>No   </td></tr>\n",
       "\t<tr><th scope=row>3.18</th><td>3rd  </td><td>Male </td><td>Child</td><td>No   </td></tr>\n",
       "\t<tr><th scope=row>3.19</th><td>3rd  </td><td>Male </td><td>Child</td><td>No   </td></tr>\n",
       "\t<tr><th scope=row>3.20</th><td>3rd  </td><td>Male </td><td>Child</td><td>No   </td></tr>\n",
       "\t<tr><th scope=row>3.21</th><td>3rd  </td><td>Male </td><td>Child</td><td>No   </td></tr>\n",
       "\t<tr><th scope=row>3.22</th><td>3rd  </td><td>Male </td><td>Child</td><td>No   </td></tr>\n",
       "\t<tr><th scope=row>3.23</th><td>3rd  </td><td>Male </td><td>Child</td><td>No   </td></tr>\n",
       "\t<tr><th scope=row>3.24</th><td>3rd  </td><td>Male </td><td>Child</td><td>No   </td></tr>\n",
       "\t<tr><th scope=row>3.25</th><td>3rd  </td><td>Male </td><td>Child</td><td>No   </td></tr>\n",
       "\t<tr><th scope=row>3.26</th><td>3rd  </td><td>Male </td><td>Child</td><td>No   </td></tr>\n",
       "\t<tr><th scope=row>3.27</th><td>3rd  </td><td>Male </td><td>Child</td><td>No   </td></tr>\n",
       "\t<tr><th scope=row>3.28</th><td>3rd  </td><td>Male </td><td>Child</td><td>No   </td></tr>\n",
       "\t<tr><th scope=row>3.29</th><td>3rd  </td><td>Male </td><td>Child</td><td>No   </td></tr>\n",
       "\t<tr><th scope=row>...</th><td>...</td><td>...</td><td>...</td><td>...</td></tr>\n",
       "\t<tr><th scope=row>31.66</th><td>3rd   </td><td>Female</td><td>Adult </td><td>Yes   </td></tr>\n",
       "\t<tr><th scope=row>31.67</th><td>3rd   </td><td>Female</td><td>Adult </td><td>Yes   </td></tr>\n",
       "\t<tr><th scope=row>31.68</th><td>3rd   </td><td>Female</td><td>Adult </td><td>Yes   </td></tr>\n",
       "\t<tr><th scope=row>31.69</th><td>3rd   </td><td>Female</td><td>Adult </td><td>Yes   </td></tr>\n",
       "\t<tr><th scope=row>31.70</th><td>3rd   </td><td>Female</td><td>Adult </td><td>Yes   </td></tr>\n",
       "\t<tr><th scope=row>31.71</th><td>3rd   </td><td>Female</td><td>Adult </td><td>Yes   </td></tr>\n",
       "\t<tr><th scope=row>31.72</th><td>3rd   </td><td>Female</td><td>Adult </td><td>Yes   </td></tr>\n",
       "\t<tr><th scope=row>31.73</th><td>3rd   </td><td>Female</td><td>Adult </td><td>Yes   </td></tr>\n",
       "\t<tr><th scope=row>31.74</th><td>3rd   </td><td>Female</td><td>Adult </td><td>Yes   </td></tr>\n",
       "\t<tr><th scope=row>31.75</th><td>3rd   </td><td>Female</td><td>Adult </td><td>Yes   </td></tr>\n",
       "\t<tr><th scope=row>32</th><td>Crew  </td><td>Female</td><td>Adult </td><td>Yes   </td></tr>\n",
       "\t<tr><th scope=row>32.1</th><td>Crew  </td><td>Female</td><td>Adult </td><td>Yes   </td></tr>\n",
       "\t<tr><th scope=row>32.2</th><td>Crew  </td><td>Female</td><td>Adult </td><td>Yes   </td></tr>\n",
       "\t<tr><th scope=row>32.3</th><td>Crew  </td><td>Female</td><td>Adult </td><td>Yes   </td></tr>\n",
       "\t<tr><th scope=row>32.4</th><td>Crew  </td><td>Female</td><td>Adult </td><td>Yes   </td></tr>\n",
       "\t<tr><th scope=row>32.5</th><td>Crew  </td><td>Female</td><td>Adult </td><td>Yes   </td></tr>\n",
       "\t<tr><th scope=row>32.6</th><td>Crew  </td><td>Female</td><td>Adult </td><td>Yes   </td></tr>\n",
       "\t<tr><th scope=row>32.7</th><td>Crew  </td><td>Female</td><td>Adult </td><td>Yes   </td></tr>\n",
       "\t<tr><th scope=row>32.8</th><td>Crew  </td><td>Female</td><td>Adult </td><td>Yes   </td></tr>\n",
       "\t<tr><th scope=row>32.9</th><td>Crew  </td><td>Female</td><td>Adult </td><td>Yes   </td></tr>\n",
       "\t<tr><th scope=row>32.10</th><td>Crew  </td><td>Female</td><td>Adult </td><td>Yes   </td></tr>\n",
       "\t<tr><th scope=row>32.11</th><td>Crew  </td><td>Female</td><td>Adult </td><td>Yes   </td></tr>\n",
       "\t<tr><th scope=row>32.12</th><td>Crew  </td><td>Female</td><td>Adult </td><td>Yes   </td></tr>\n",
       "\t<tr><th scope=row>32.13</th><td>Crew  </td><td>Female</td><td>Adult </td><td>Yes   </td></tr>\n",
       "\t<tr><th scope=row>32.14</th><td>Crew  </td><td>Female</td><td>Adult </td><td>Yes   </td></tr>\n",
       "\t<tr><th scope=row>32.15</th><td>Crew  </td><td>Female</td><td>Adult </td><td>Yes   </td></tr>\n",
       "\t<tr><th scope=row>32.16</th><td>Crew  </td><td>Female</td><td>Adult </td><td>Yes   </td></tr>\n",
       "\t<tr><th scope=row>32.17</th><td>Crew  </td><td>Female</td><td>Adult </td><td>Yes   </td></tr>\n",
       "\t<tr><th scope=row>32.18</th><td>Crew  </td><td>Female</td><td>Adult </td><td>Yes   </td></tr>\n",
       "\t<tr><th scope=row>32.19</th><td>Crew  </td><td>Female</td><td>Adult </td><td>Yes   </td></tr>\n",
       "</tbody>\n",
       "</table>\n"
      ],
      "text/latex": [
       "\\begin{tabular}{r|llll}\n",
       "  & Class & Sex & Age & Survived\\\\\n",
       "\\hline\n",
       "\t3 & 3rd   & Male  & Child & No   \\\\\n",
       "\t3.1 & 3rd   & Male  & Child & No   \\\\\n",
       "\t3.2 & 3rd   & Male  & Child & No   \\\\\n",
       "\t3.3 & 3rd   & Male  & Child & No   \\\\\n",
       "\t3.4 & 3rd   & Male  & Child & No   \\\\\n",
       "\t3.5 & 3rd   & Male  & Child & No   \\\\\n",
       "\t3.6 & 3rd   & Male  & Child & No   \\\\\n",
       "\t3.7 & 3rd   & Male  & Child & No   \\\\\n",
       "\t3.8 & 3rd   & Male  & Child & No   \\\\\n",
       "\t3.9 & 3rd   & Male  & Child & No   \\\\\n",
       "\t3.10 & 3rd   & Male  & Child & No   \\\\\n",
       "\t3.11 & 3rd   & Male  & Child & No   \\\\\n",
       "\t3.12 & 3rd   & Male  & Child & No   \\\\\n",
       "\t3.13 & 3rd   & Male  & Child & No   \\\\\n",
       "\t3.14 & 3rd   & Male  & Child & No   \\\\\n",
       "\t3.15 & 3rd   & Male  & Child & No   \\\\\n",
       "\t3.16 & 3rd   & Male  & Child & No   \\\\\n",
       "\t3.17 & 3rd   & Male  & Child & No   \\\\\n",
       "\t3.18 & 3rd   & Male  & Child & No   \\\\\n",
       "\t3.19 & 3rd   & Male  & Child & No   \\\\\n",
       "\t3.20 & 3rd   & Male  & Child & No   \\\\\n",
       "\t3.21 & 3rd   & Male  & Child & No   \\\\\n",
       "\t3.22 & 3rd   & Male  & Child & No   \\\\\n",
       "\t3.23 & 3rd   & Male  & Child & No   \\\\\n",
       "\t3.24 & 3rd   & Male  & Child & No   \\\\\n",
       "\t3.25 & 3rd   & Male  & Child & No   \\\\\n",
       "\t3.26 & 3rd   & Male  & Child & No   \\\\\n",
       "\t3.27 & 3rd   & Male  & Child & No   \\\\\n",
       "\t3.28 & 3rd   & Male  & Child & No   \\\\\n",
       "\t3.29 & 3rd   & Male  & Child & No   \\\\\n",
       "\t... & ... & ... & ... & ...\\\\\n",
       "\t31.66 & 3rd    & Female & Adult  & Yes   \\\\\n",
       "\t31.67 & 3rd    & Female & Adult  & Yes   \\\\\n",
       "\t31.68 & 3rd    & Female & Adult  & Yes   \\\\\n",
       "\t31.69 & 3rd    & Female & Adult  & Yes   \\\\\n",
       "\t31.70 & 3rd    & Female & Adult  & Yes   \\\\\n",
       "\t31.71 & 3rd    & Female & Adult  & Yes   \\\\\n",
       "\t31.72 & 3rd    & Female & Adult  & Yes   \\\\\n",
       "\t31.73 & 3rd    & Female & Adult  & Yes   \\\\\n",
       "\t31.74 & 3rd    & Female & Adult  & Yes   \\\\\n",
       "\t31.75 & 3rd    & Female & Adult  & Yes   \\\\\n",
       "\t32 & Crew   & Female & Adult  & Yes   \\\\\n",
       "\t32.1 & Crew   & Female & Adult  & Yes   \\\\\n",
       "\t32.2 & Crew   & Female & Adult  & Yes   \\\\\n",
       "\t32.3 & Crew   & Female & Adult  & Yes   \\\\\n",
       "\t32.4 & Crew   & Female & Adult  & Yes   \\\\\n",
       "\t32.5 & Crew   & Female & Adult  & Yes   \\\\\n",
       "\t32.6 & Crew   & Female & Adult  & Yes   \\\\\n",
       "\t32.7 & Crew   & Female & Adult  & Yes   \\\\\n",
       "\t32.8 & Crew   & Female & Adult  & Yes   \\\\\n",
       "\t32.9 & Crew   & Female & Adult  & Yes   \\\\\n",
       "\t32.10 & Crew   & Female & Adult  & Yes   \\\\\n",
       "\t32.11 & Crew   & Female & Adult  & Yes   \\\\\n",
       "\t32.12 & Crew   & Female & Adult  & Yes   \\\\\n",
       "\t32.13 & Crew   & Female & Adult  & Yes   \\\\\n",
       "\t32.14 & Crew   & Female & Adult  & Yes   \\\\\n",
       "\t32.15 & Crew   & Female & Adult  & Yes   \\\\\n",
       "\t32.16 & Crew   & Female & Adult  & Yes   \\\\\n",
       "\t32.17 & Crew   & Female & Adult  & Yes   \\\\\n",
       "\t32.18 & Crew   & Female & Adult  & Yes   \\\\\n",
       "\t32.19 & Crew   & Female & Adult  & Yes   \\\\\n",
       "\\end{tabular}\n"
      ],
      "text/markdown": [
       "\n",
       "| <!--/--> | Class | Sex | Age | Survived |\n",
       "|---|---|---|---|---|\n",
       "| 3 | 3rd   | Male  | Child | No    |\n",
       "| 3.1 | 3rd   | Male  | Child | No    |\n",
       "| 3.2 | 3rd   | Male  | Child | No    |\n",
       "| 3.3 | 3rd   | Male  | Child | No    |\n",
       "| 3.4 | 3rd   | Male  | Child | No    |\n",
       "| 3.5 | 3rd   | Male  | Child | No    |\n",
       "| 3.6 | 3rd   | Male  | Child | No    |\n",
       "| 3.7 | 3rd   | Male  | Child | No    |\n",
       "| 3.8 | 3rd   | Male  | Child | No    |\n",
       "| 3.9 | 3rd   | Male  | Child | No    |\n",
       "| 3.10 | 3rd   | Male  | Child | No    |\n",
       "| 3.11 | 3rd   | Male  | Child | No    |\n",
       "| 3.12 | 3rd   | Male  | Child | No    |\n",
       "| 3.13 | 3rd   | Male  | Child | No    |\n",
       "| 3.14 | 3rd   | Male  | Child | No    |\n",
       "| 3.15 | 3rd   | Male  | Child | No    |\n",
       "| 3.16 | 3rd   | Male  | Child | No    |\n",
       "| 3.17 | 3rd   | Male  | Child | No    |\n",
       "| 3.18 | 3rd   | Male  | Child | No    |\n",
       "| 3.19 | 3rd   | Male  | Child | No    |\n",
       "| 3.20 | 3rd   | Male  | Child | No    |\n",
       "| 3.21 | 3rd   | Male  | Child | No    |\n",
       "| 3.22 | 3rd   | Male  | Child | No    |\n",
       "| 3.23 | 3rd   | Male  | Child | No    |\n",
       "| 3.24 | 3rd   | Male  | Child | No    |\n",
       "| 3.25 | 3rd   | Male  | Child | No    |\n",
       "| 3.26 | 3rd   | Male  | Child | No    |\n",
       "| 3.27 | 3rd   | Male  | Child | No    |\n",
       "| 3.28 | 3rd   | Male  | Child | No    |\n",
       "| 3.29 | 3rd   | Male  | Child | No    |\n",
       "| ... | ... | ... | ... | ... |\n",
       "| 31.66 | 3rd    | Female | Adult  | Yes    |\n",
       "| 31.67 | 3rd    | Female | Adult  | Yes    |\n",
       "| 31.68 | 3rd    | Female | Adult  | Yes    |\n",
       "| 31.69 | 3rd    | Female | Adult  | Yes    |\n",
       "| 31.70 | 3rd    | Female | Adult  | Yes    |\n",
       "| 31.71 | 3rd    | Female | Adult  | Yes    |\n",
       "| 31.72 | 3rd    | Female | Adult  | Yes    |\n",
       "| 31.73 | 3rd    | Female | Adult  | Yes    |\n",
       "| 31.74 | 3rd    | Female | Adult  | Yes    |\n",
       "| 31.75 | 3rd    | Female | Adult  | Yes    |\n",
       "| 32 | Crew   | Female | Adult  | Yes    |\n",
       "| 32.1 | Crew   | Female | Adult  | Yes    |\n",
       "| 32.2 | Crew   | Female | Adult  | Yes    |\n",
       "| 32.3 | Crew   | Female | Adult  | Yes    |\n",
       "| 32.4 | Crew   | Female | Adult  | Yes    |\n",
       "| 32.5 | Crew   | Female | Adult  | Yes    |\n",
       "| 32.6 | Crew   | Female | Adult  | Yes    |\n",
       "| 32.7 | Crew   | Female | Adult  | Yes    |\n",
       "| 32.8 | Crew   | Female | Adult  | Yes    |\n",
       "| 32.9 | Crew   | Female | Adult  | Yes    |\n",
       "| 32.10 | Crew   | Female | Adult  | Yes    |\n",
       "| 32.11 | Crew   | Female | Adult  | Yes    |\n",
       "| 32.12 | Crew   | Female | Adult  | Yes    |\n",
       "| 32.13 | Crew   | Female | Adult  | Yes    |\n",
       "| 32.14 | Crew   | Female | Adult  | Yes    |\n",
       "| 32.15 | Crew   | Female | Adult  | Yes    |\n",
       "| 32.16 | Crew   | Female | Adult  | Yes    |\n",
       "| 32.17 | Crew   | Female | Adult  | Yes    |\n",
       "| 32.18 | Crew   | Female | Adult  | Yes    |\n",
       "| 32.19 | Crew   | Female | Adult  | Yes    |\n",
       "\n"
      ],
      "text/plain": [
       "      Class Sex    Age   Survived\n",
       "3     3rd   Male   Child No      \n",
       "3.1   3rd   Male   Child No      \n",
       "3.2   3rd   Male   Child No      \n",
       "3.3   3rd   Male   Child No      \n",
       "3.4   3rd   Male   Child No      \n",
       "3.5   3rd   Male   Child No      \n",
       "3.6   3rd   Male   Child No      \n",
       "3.7   3rd   Male   Child No      \n",
       "3.8   3rd   Male   Child No      \n",
       "3.9   3rd   Male   Child No      \n",
       "3.10  3rd   Male   Child No      \n",
       "3.11  3rd   Male   Child No      \n",
       "3.12  3rd   Male   Child No      \n",
       "3.13  3rd   Male   Child No      \n",
       "3.14  3rd   Male   Child No      \n",
       "3.15  3rd   Male   Child No      \n",
       "3.16  3rd   Male   Child No      \n",
       "3.17  3rd   Male   Child No      \n",
       "3.18  3rd   Male   Child No      \n",
       "3.19  3rd   Male   Child No      \n",
       "3.20  3rd   Male   Child No      \n",
       "3.21  3rd   Male   Child No      \n",
       "3.22  3rd   Male   Child No      \n",
       "3.23  3rd   Male   Child No      \n",
       "3.24  3rd   Male   Child No      \n",
       "3.25  3rd   Male   Child No      \n",
       "3.26  3rd   Male   Child No      \n",
       "3.27  3rd   Male   Child No      \n",
       "3.28  3rd   Male   Child No      \n",
       "3.29  3rd   Male   Child No      \n",
       "...   ...   ...    ...   ...     \n",
       "31.66 3rd   Female Adult Yes     \n",
       "31.67 3rd   Female Adult Yes     \n",
       "31.68 3rd   Female Adult Yes     \n",
       "31.69 3rd   Female Adult Yes     \n",
       "31.70 3rd   Female Adult Yes     \n",
       "31.71 3rd   Female Adult Yes     \n",
       "31.72 3rd   Female Adult Yes     \n",
       "31.73 3rd   Female Adult Yes     \n",
       "31.74 3rd   Female Adult Yes     \n",
       "31.75 3rd   Female Adult Yes     \n",
       "32    Crew  Female Adult Yes     \n",
       "32.1  Crew  Female Adult Yes     \n",
       "32.2  Crew  Female Adult Yes     \n",
       "32.3  Crew  Female Adult Yes     \n",
       "32.4  Crew  Female Adult Yes     \n",
       "32.5  Crew  Female Adult Yes     \n",
       "32.6  Crew  Female Adult Yes     \n",
       "32.7  Crew  Female Adult Yes     \n",
       "32.8  Crew  Female Adult Yes     \n",
       "32.9  Crew  Female Adult Yes     \n",
       "32.10 Crew  Female Adult Yes     \n",
       "32.11 Crew  Female Adult Yes     \n",
       "32.12 Crew  Female Adult Yes     \n",
       "32.13 Crew  Female Adult Yes     \n",
       "32.14 Crew  Female Adult Yes     \n",
       "32.15 Crew  Female Adult Yes     \n",
       "32.16 Crew  Female Adult Yes     \n",
       "32.17 Crew  Female Adult Yes     \n",
       "32.18 Crew  Female Adult Yes     \n",
       "32.19 Crew  Female Adult Yes     "
      ]
     },
     "metadata": {},
     "output_type": "display_data"
    }
   ],
   "source": [
    "#We no longer need the frequency, drop the feature\n",
    "Titanic_dataset$Freq=NULL\n",
    "\n",
    "Titanic_dataset"
   ]
  },
  {
   "cell_type": "code",
   "execution_count": 5,
   "metadata": {},
   "outputs": [
    {
     "data": {
      "text/plain": [
       "\n",
       "Naive Bayes Classifier for Discrete Predictors\n",
       "\n",
       "Call:\n",
       "naiveBayes.default(x = X, y = Y, laplace = laplace)\n",
       "\n",
       "A-priori probabilities:\n",
       "Y\n",
       "      No      Yes \n",
       "0.676965 0.323035 \n",
       "\n",
       "Conditional probabilities:\n",
       "     Class\n",
       "Y            1st        2nd        3rd       Crew\n",
       "  No  0.08187919 0.11208054 0.35436242 0.45167785\n",
       "  Yes 0.28551336 0.16596343 0.25035162 0.29817159\n",
       "\n",
       "     Sex\n",
       "Y           Male     Female\n",
       "  No  0.91543624 0.08456376\n",
       "  Yes 0.51617440 0.48382560\n",
       "\n",
       "     Age\n",
       "Y          Child      Adult\n",
       "  No  0.03489933 0.96510067\n",
       "  Yes 0.08016878 0.91983122\n"
      ]
     },
     "metadata": {},
     "output_type": "display_data"
    }
   ],
   "source": [
    "#Fitting the Naive Bayes model\n",
    "Naive_Bayes_Model=naiveBayes(Survived ~., data=Titanic_dataset)\n",
    "\n",
    "#What does the model say? Print the model summary\n",
    "Naive_Bayes_Model"
   ]
  },
  {
   "cell_type": "markdown",
   "metadata": {},
   "source": [
    "### The model creates the conditional probability for each feature separately. We also have the a-priori probabilities which indicates the distribution of our data. Let’s calculate how we perform on the data"
   ]
  },
  {
   "cell_type": "code",
   "execution_count": 6,
   "metadata": {},
   "outputs": [
    {
     "data": {
      "text/plain": [
       "              \n",
       "NB_Predictions   No  Yes\n",
       "           No  1364  362\n",
       "           Yes  126  349"
      ]
     },
     "metadata": {},
     "output_type": "display_data"
    }
   ],
   "source": [
    "#Prediction on the dataset\n",
    "NB_Predictions=predict(Naive_Bayes_Model,Titanic_dataset)\n",
    "\n",
    "#Confusion matrix to check accuracy\n",
    "table(NB_Predictions,Titanic_dataset$Survived)"
   ]
  },
  {
   "cell_type": "markdown",
   "metadata": {},
   "source": [
    "### Conclusion:\n",
    "\n",
    "* We have the results! \n",
    "\n",
    "* We are able to classify 1364 out of 1490 “No” cases correctly and 349 out of 711 “Yes” cases correctly. \n",
    "\n",
    "* This means the ability of Naive Bayes algorithm to predict “No” cases is about 91.5% but it falls down to only 49% of the “Yes” cases resulting in an overall accuracy of 77.8%."
   ]
  },
  {
   "cell_type": "markdown",
   "metadata": {},
   "source": [
    "# Parte 2"
   ]
  },
  {
   "cell_type": "markdown",
   "metadata": {},
   "source": [
    "### Getting started with Naive Bayes in `mlr` (Machine Learning in R)\n",
    "\n",
    "Caso tenha problemas na instalação do pacote `devtools` no MacBook, faça o seguinte:\n",
    "* brew install libgit2\n",
    "* `# conda install -c r r-xml`"
   ]
  },
  {
   "cell_type": "markdown",
   "metadata": {},
   "source": [
    "# ------------------------------------------------------------------------------------"
   ]
  },
  {
   "cell_type": "code",
   "execution_count": 7,
   "metadata": {},
   "outputs": [],
   "source": [
    "# install.packages(\"devtools\")"
   ]
  },
  {
   "cell_type": "code",
   "execution_count": 8,
   "metadata": {},
   "outputs": [],
   "source": [
    "# library(devtools)"
   ]
  },
  {
   "cell_type": "code",
   "execution_count": 9,
   "metadata": {},
   "outputs": [],
   "source": [
    "#devtools::install_github(\"mlr-org/mlr\")"
   ]
  },
  {
   "cell_type": "code",
   "execution_count": 10,
   "metadata": {},
   "outputs": [
    {
     "name": "stderr",
     "output_type": "stream",
     "text": [
      "Warning message in install.packages(\"mlr\"):\n",
      "\"installation of package 'mlr' had non-zero exit status\"Updating HTML index of packages in '.Library'\n",
      "Making 'packages.html' ... done\n",
      "Loading required package: ParamHelpers\n",
      "\n",
      "Attaching package: 'mlr'\n",
      "\n",
      "The following object is masked from 'package:e1071':\n",
      "\n",
      "    impute\n",
      "\n"
     ]
    }
   ],
   "source": [
    "#Install the package\n",
    "install.packages(\"mlr\")\n",
    "\n",
    "#Loading the library\n",
    "library(mlr)\n",
    "?mlr"
   ]
  },
  {
   "cell_type": "code",
   "execution_count": 11,
   "metadata": {},
   "outputs": [],
   "source": [
    "#Create a classification task for learning on Titanic Dataset and specify the target feature\n",
    "task = makeClassifTask(data = Titanic_dataset, target = \"Survived\")\n",
    "\n",
    "#Initialize the Naive Bayes classifier\n",
    "selected_model = makeLearner(\"classif.naiveBayes\")\n",
    "\n",
    "#Train the model\n",
    "NB_mlr = train(selected_model, task)"
   ]
  },
  {
   "cell_type": "markdown",
   "metadata": {},
   "source": [
    "# Naive Bayes Classifier for Discrete Predictors"
   ]
  },
  {
   "cell_type": "code",
   "execution_count": 12,
   "metadata": {},
   "outputs": [
    {
     "data": {
      "text/plain": [
       "\n",
       "Naive Bayes Classifier for Discrete Predictors\n",
       "\n",
       "Call:\n",
       "naiveBayes.default(x = X, y = Y, laplace = laplace)\n",
       "\n",
       "A-priori probabilities:\n",
       "Y\n",
       "      No      Yes \n",
       "0.676965 0.323035 \n",
       "\n",
       "Conditional probabilities:\n",
       "     Class\n",
       "Y            1st        2nd        3rd       Crew\n",
       "  No  0.08187919 0.11208054 0.35436242 0.45167785\n",
       "  Yes 0.28551336 0.16596343 0.25035162 0.29817159\n",
       "\n",
       "     Sex\n",
       "Y           Male     Female\n",
       "  No  0.91543624 0.08456376\n",
       "  Yes 0.51617440 0.48382560\n",
       "\n",
       "     Age\n",
       "Y          Child      Adult\n",
       "  No  0.03489933 0.96510067\n",
       "  Yes 0.08016878 0.91983122\n"
      ]
     },
     "metadata": {},
     "output_type": "display_data"
    }
   ],
   "source": [
    "#Read the model learned  \n",
    "NB_mlr$learner.model"
   ]
  },
  {
   "cell_type": "code",
   "execution_count": 13,
   "metadata": {},
   "outputs": [],
   "source": [
    "#Predict on the dataset without passing the target feature\n",
    "predictions_mlr = as.data.frame(predict(NB_mlr, newdata = Titanic_dataset[,1:3]))"
   ]
  },
  {
   "cell_type": "code",
   "execution_count": 14,
   "metadata": {},
   "outputs": [
    {
     "data": {
      "text/plain": [
       "     \n",
       "        No  Yes\n",
       "  No  1364  362\n",
       "  Yes  126  349"
      ]
     },
     "metadata": {},
     "output_type": "display_data"
    }
   ],
   "source": [
    "##Confusion matrix to check accuracy\n",
    "table(predictions_mlr[,1],Titanic_dataset$Survived)"
   ]
  },
  {
   "cell_type": "markdown",
   "metadata": {},
   "source": [
    "# Here is the Complete Code"
   ]
  },
  {
   "cell_type": "code",
   "execution_count": 15,
   "metadata": {},
   "outputs": [
    {
     "data": {
      "text/plain": [
       "\n",
       "Naive Bayes Classifier for Discrete Predictors\n",
       "\n",
       "Call:\n",
       "naiveBayes.default(x = X, y = Y, laplace = laplace)\n",
       "\n",
       "A-priori probabilities:\n",
       "Y\n",
       "      No      Yes \n",
       "0.676965 0.323035 \n",
       "\n",
       "Conditional probabilities:\n",
       "     Class\n",
       "Y            1st        2nd        3rd       Crew\n",
       "  No  0.08187919 0.11208054 0.35436242 0.45167785\n",
       "  Yes 0.28551336 0.16596343 0.25035162 0.29817159\n",
       "\n",
       "     Sex\n",
       "Y           Male     Female\n",
       "  No  0.91543624 0.08456376\n",
       "  Yes 0.51617440 0.48382560\n",
       "\n",
       "     Age\n",
       "Y          Child      Adult\n",
       "  No  0.03489933 0.96510067\n",
       "  Yes 0.08016878 0.91983122\n"
      ]
     },
     "metadata": {},
     "output_type": "display_data"
    },
    {
     "data": {
      "text/plain": [
       "              \n",
       "NB_Predictions   No  Yes\n",
       "           No  1364  362\n",
       "           Yes  126  349"
      ]
     },
     "metadata": {},
     "output_type": "display_data"
    },
    {
     "data": {
      "text/plain": [
       "\n",
       "Naive Bayes Classifier for Discrete Predictors\n",
       "\n",
       "Call:\n",
       "naiveBayes.default(x = X, y = Y, laplace = laplace)\n",
       "\n",
       "A-priori probabilities:\n",
       "Y\n",
       "      No      Yes \n",
       "0.676965 0.323035 \n",
       "\n",
       "Conditional probabilities:\n",
       "     Class\n",
       "Y            1st        2nd        3rd       Crew\n",
       "  No  0.08187919 0.11208054 0.35436242 0.45167785\n",
       "  Yes 0.28551336 0.16596343 0.25035162 0.29817159\n",
       "\n",
       "     Sex\n",
       "Y           Male     Female\n",
       "  No  0.91543624 0.08456376\n",
       "  Yes 0.51617440 0.48382560\n",
       "\n",
       "     Age\n",
       "Y          Child      Adult\n",
       "  No  0.03489933 0.96510067\n",
       "  Yes 0.08016878 0.91983122\n"
      ]
     },
     "metadata": {},
     "output_type": "display_data"
    },
    {
     "data": {
      "text/plain": [
       "     \n",
       "        No  Yes\n",
       "  No  1364  362\n",
       "  Yes  126  349"
      ]
     },
     "metadata": {},
     "output_type": "display_data"
    }
   ],
   "source": [
    "#Getting started with Naive Bayes\n",
    "#Install the package\n",
    "#install.packages(“e1071”)\n",
    "#Loading the library\n",
    "library(e1071)\n",
    "?naiveBayes #The documentation also contains an example implementation of Titanic dataset\n",
    "#Next load the Titanic dataset\n",
    "data(\"Titanic\")\n",
    "#Save into a data frame and view it\n",
    "Titanic_df=as.data.frame(Titanic)\n",
    "#Creating data from table\n",
    "repeating_sequence=rep.int(seq_len(nrow(Titanic_df)), Titanic_df$Freq) #This will repeat each combination equal to the frequency of each combination\n",
    " \n",
    "#Create the dataset by row repetition created\n",
    "Titanic_dataset=Titanic_df[repeating_sequence,]\n",
    "#We no longer need the frequency, drop the feature\n",
    "Titanic_dataset$Freq=NULL\n",
    " \n",
    "#Fitting the Naive Bayes model\n",
    "Naive_Bayes_Model=naiveBayes(Survived ~., data=Titanic_dataset)\n",
    "#What does the model say? Print the model summary\n",
    "Naive_Bayes_Model\n",
    " \n",
    "#Prediction on the dataset\n",
    "NB_Predictions=predict(Naive_Bayes_Model,Titanic_dataset)\n",
    "#Confusion matrix to check accuracy\n",
    "table(NB_Predictions,Titanic_dataset$Survived)\n",
    " \n",
    "#Getting started with Naive Bayes in mlr\n",
    "#Install the package\n",
    "#install.packages(“mlr”)\n",
    "#Loading the library\n",
    "library(mlr)\n",
    " \n",
    "#Create a classification task for learning on Titanic Dataset and specify the target feature\n",
    "task = makeClassifTask(data = Titanic_dataset, target = \"Survived\")\n",
    " \n",
    "#Initialize the Naive Bayes classifier\n",
    "selected_model = makeLearner(\"classif.naiveBayes\")\n",
    " \n",
    "#Train the model\n",
    "NB_mlr = train(selected_model, task)\n",
    " \n",
    "#Read the model learned  \n",
    "NB_mlr$learner.model\n",
    " \n",
    "#Predict on the dataset without passing the target feature\n",
    "predictions_mlr = as.data.frame(predict(NB_mlr, newdata = Titanic_dataset[,1:3]))\n",
    " \n",
    "##Confusion matrix to check accuracy\n",
    "table(predictions_mlr[,1],Titanic_dataset$Survived)"
   ]
  },
  {
   "cell_type": "code",
   "execution_count": null,
   "metadata": {},
   "outputs": [],
   "source": []
  }
 ],
 "metadata": {
  "kernelspec": {
   "display_name": "R",
   "language": "R",
   "name": "ir"
  },
  "language_info": {
   "codemirror_mode": "r",
   "file_extension": ".r",
   "mimetype": "text/x-r-source",
   "name": "R",
   "pygments_lexer": "r",
   "version": "3.5.1"
  }
 },
 "nbformat": 4,
 "nbformat_minor": 2
}
